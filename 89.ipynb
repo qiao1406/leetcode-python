{
 "cells": [
  {
   "cell_type": "code",
   "execution_count": 1,
   "metadata": {
    "collapsed": true,
    "pycharm": {
     "is_executing": false
    }
   },
   "outputs": [
    {
     "data": {
      "text/plain": "[0, 2, 3, 1]"
     },
     "metadata": {},
     "output_type": "execute_result",
     "execution_count": 1
    }
   ],
   "source": [
    "class Solution(object):\n",
    "\n",
    "    def dec_to_bin(self, n, i):\n",
    "        bin_str = bin(i)[2:]\n",
    "        return '0' * (n - len(bin_str)) + bin_str\n",
    "\n",
    "    def grayCode(self, n):\n",
    "        \"\"\"\n",
    "        :type n: int\n",
    "        :rtype: List[int]\n",
    "        \"\"\"\n",
    "\n",
    "        if n == 0:\n",
    "            return [0]\n",
    "\n",
    "        ans = [0]\n",
    "        self.res = None\n",
    "        s = set(range(1, 1 << n))\n",
    "        self.flag = False\n",
    "\n",
    "        def dfs(bin_str, not_change=-1):\n",
    "            if not s:\n",
    "                self.flag = True\n",
    "                self.res = ans[:]\n",
    "                return\n",
    "\n",
    "            for i in range(n):\n",
    "                if self.flag:\n",
    "                    break\n",
    "                if i == not_change:\n",
    "                    continue\n",
    "                change_bit = '1' if bin_str[i] == '0' else '0'\n",
    "                next_visit = bin_str[:i] + change_bit + bin_str[i + 1:]\n",
    "                next_num = int(next_visit, 2)\n",
    "                if next_num in s:\n",
    "                    ans.append(next_num)\n",
    "                    s.remove(next_num)\n",
    "                    dfs(next_visit, i)\n",
    "                    s.add(ans.pop())\n",
    "        \n",
    "        dfs(self.dec_to_bin(n, 0))\n",
    "        return self.res\n",
    "\n",
    "s = Solution()\n",
    "s.grayCode(2)"
   ]
  }
 ],
 "metadata": {
  "kernelspec": {
   "display_name": "Python 3",
   "language": "python",
   "name": "python3"
  },
  "language_info": {
   "codemirror_mode": {
    "name": "ipython",
    "version": 2
   },
   "file_extension": ".py",
   "mimetype": "text/x-python",
   "name": "python",
   "nbconvert_exporter": "python",
   "pygments_lexer": "ipython2",
   "version": "2.7.6"
  },
  "pycharm": {
   "stem_cell": {
    "cell_type": "raw",
    "source": [],
    "metadata": {
     "collapsed": false
    }
   }
  }
 },
 "nbformat": 4,
 "nbformat_minor": 0
}