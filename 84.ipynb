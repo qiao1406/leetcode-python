{
 "cells": [
  {
   "cell_type": "markdown",
   "metadata": {
    "collapsed": true,
    "pycharm": {
     "name": "#%% md\n"
    }
   },
   "source": [
    "暴力法。超出时间限制"
   ]
  },
  {
   "cell_type": "code",
   "execution_count": null,
   "metadata": {
    "pycharm": {
     "name": "#%%\n"
    }
   },
   "outputs": [],
   "source": [
    "class Solution(object):\n",
    "    def largestRectangleArea(self, heights):\n",
    "        \"\"\"\n",
    "        :type heights: List[int]\n",
    "        :rtype: int\n",
    "        \"\"\"\n",
    "\n",
    "        if heights == []:\n",
    "            return 0\n",
    "        \n",
    "        n = len(heights)\n",
    "\n",
    "        max_area = 0\n",
    "\n",
    "        for i in range(n):\n",
    "            min_h = heights[i]\n",
    "            for j in range(i, n):\n",
    "                if heights[j] == 0:\n",
    "                    break\n",
    "                min_h = min(min_h, heights[j])\n",
    "                max_area = max(max_area, min_h * (j - i + 1))\n",
    "        \n",
    "        return max_area\n",
    "    "
   ]
  },
  {
   "cell_type": "markdown",
   "metadata": {},
   "source": [
    "采用了单调栈"
   ]
  },
  {
   "cell_type": "code",
   "execution_count": 2,
   "metadata": {
    "pycharm": {
     "name": "#%%\n"
    }
   },
   "outputs": [
    {
     "data": {
      "text/plain": [
       "9"
      ]
     },
     "execution_count": 2,
     "metadata": {},
     "output_type": "execute_result"
    }
   ],
   "source": [
    "class Solution(object):\n",
    "    def largestRectangleArea(self, heights):\n",
    "        \"\"\"\n",
    "        :type heights: List[int]\n",
    "        :rtype: int\n",
    "        \"\"\"\n",
    "\n",
    "        if heights == []:\n",
    "            return 0\n",
    "\n",
    "        s = []\n",
    "        left = []\n",
    "        right = []\n",
    "\n",
    "        for i in range(len(heights)):\n",
    "\n",
    "            if s == []:\n",
    "                s.append(i)\n",
    "                left.append(-1)\n",
    "            else:\n",
    "                while s and heights[s[-1]] >= heights[i]:\n",
    "                    s.pop()\n",
    "                if s == []:\n",
    "                    left.append(-1)\n",
    "                else:\n",
    "                    left.append(s[-1])\n",
    "                s.append(i)\n",
    "        \n",
    "        s = []\n",
    "        for i in range(len(heights) - 1, -1, -1):\n",
    "            if s == []:\n",
    "                s.append(i)\n",
    "                right.insert(0, len(heights))\n",
    "            else:\n",
    "                while s and heights[s[-1]] >= heights[i]:\n",
    "                    s.pop()\n",
    "                if s == []:\n",
    "                    right.insert(0, len(heights))\n",
    "                else:\n",
    "                    right.insert(0, s[-1])\n",
    "                s.append(i)\n",
    "        \n",
    "        ans = 0\n",
    "        for i in range(len(heights)):\n",
    "            ans = max(ans, heights[i] * (right[i] - 1 - left[i]))\n",
    "        \n",
    "        return ans\n",
    "\n",
    "s = Solution()\n",
    "s.largestRectangleArea([0, 9])\n"
   ]
  },
  {
   "cell_type": "code",
   "execution_count": 9,
   "metadata": {
    "pycharm": {
     "name": "#%%\n"
    }
   },
   "outputs": [
    {
     "name": "stdout",
     "output_type": "stream",
     "text": [
      "10\n"
     ]
    }
   ],
   "source": [
    "# 2021.01.14\n",
    "class Solution(object):\n",
    "    def largestRectangleArea(self, heights):\n",
    "        \"\"\"\n",
    "        :type heights: List[int]\n",
    "        :rtype: int\n",
    "        \"\"\"\n",
    "\n",
    "        if heights == []:\n",
    "            return 0\n",
    "\n",
    "        def put_in(s, i, rcd):\n",
    "            while s and heights[s[-1]] >= heights[i]:\n",
    "                s.pop()\n",
    "            if s:\n",
    "                rcd[i] = s[-1]\n",
    "            s.append(i)\n",
    "\n",
    "        n = len(heights)\n",
    "        left, right = [-1] * n, [n] * n\n",
    "\n",
    "        s = []\n",
    "        for i in range(n):\n",
    "            put_in(s, i, left)\n",
    "\n",
    "        s = []\n",
    "        for i in range(n - 1, -1, -1):\n",
    "            put_in(s, i, right)\n",
    "\n",
    "        max_area = 0\n",
    "        for i in range(n):\n",
    "            max_area = max(max_area, (right[i] - left[i] - 1) * heights[i])\n",
    "        return max_area\n",
    "\n",
    "s1 = Solution()\n",
    "print(s1.largestRectangleArea([2,1,5,6,2,3]))"
   ]
  },
  {
   "cell_type": "code",
   "execution_count": 10,
   "outputs": [
    {
     "name": "stdout",
     "output_type": "stream",
     "text": [
      "10\n"
     ]
    }
   ],
   "source": [
    "class Solution(object):\n",
    "    def largestRectangleArea(self, heights):\n",
    "        \"\"\"\n",
    "        :type heights: List[int]\n",
    "        :rtype: int\n",
    "        \"\"\"\n",
    "\n",
    "        if heights == []:\n",
    "            return 0\n",
    "\n",
    "        n = len(heights)\n",
    "        left, right = [-1] * n, [n] * n\n",
    "\n",
    "        s = []\n",
    "        for i in range(n):\n",
    "            while s and heights[s[-1]] >= heights[i]:\n",
    "                j = s.pop()\n",
    "                right[j] = i\n",
    "            if s:\n",
    "                left[i] = s[-1]\n",
    "            s.append(i)\n",
    "\n",
    "        max_area = 0\n",
    "        for i in range(n):\n",
    "            max_area = max(max_area, (right[i] - left[i] - 1) * heights[i])\n",
    "        return max_area\n",
    "s1 = Solution()\n",
    "print(s1.largestRectangleArea([2,1,5,6,2,3]))"
   ],
   "metadata": {
    "collapsed": false,
    "pycharm": {
     "name": "#%% 常数优化\n"
    }
   }
  }
 ],
 "metadata": {
  "kernelspec": {
   "display_name": "PyCharm (leetcode-python)",
   "language": "python",
   "name": "pycharm-8e4bec57"
  },
  "language_info": {
   "codemirror_mode": {
    "name": "ipython",
    "version": 3
   },
   "file_extension": ".py",
   "mimetype": "text/x-python",
   "name": "python",
   "nbconvert_exporter": "python",
   "pygments_lexer": "ipython3",
   "version": "3.6.12"
  }
 },
 "nbformat": 4,
 "nbformat_minor": 1
}