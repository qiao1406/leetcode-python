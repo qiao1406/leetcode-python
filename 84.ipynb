{
 "cells": [
  {
   "cell_type": "markdown",
   "metadata": {
    "collapsed": true,
    "pycharm": {
     "name": "#%% md\n"
    }
   },
   "source": [
    "暴力法。超出时间限制"
   ]
  },
  {
   "cell_type": "code",
   "execution_count": null,
   "outputs": [],
   "source": [
    "class Solution(object):\n",
    "    def largestRectangleArea(self, heights):\n",
    "        \"\"\"\n",
    "        :type heights: List[int]\n",
    "        :rtype: int\n",
    "        \"\"\"\n",
    "\n",
    "        if heights == []:\n",
    "            return 0\n",
    "        \n",
    "        n = len(heights)\n",
    "\n",
    "        max_area = 0\n",
    "\n",
    "        for i in range(n):\n",
    "            min_h = heights[i]\n",
    "            for j in range(i, n):\n",
    "                if heights[j] == 0:\n",
    "                    break\n",
    "                min_h = min(min_h, heights[j])\n",
    "                max_area = max(max_area, min_h * (j - i + 1))\n",
    "        \n",
    "        return max_area\n",
    "    "
   ],
   "metadata": {
    "collapsed": false,
    "pycharm": {
     "name": "#%%\n"
    }
   }
  },
  {
   "cell_type": "markdown",
   "source": [
    "采用了单调栈"
   ],
   "metadata": {
    "collapsed": false
   }
  },
  {
   "cell_type": "code",
   "execution_count": 2,
   "outputs": [
    {
     "data": {
      "text/plain": "9"
     },
     "metadata": {},
     "output_type": "execute_result",
     "execution_count": 2
    }
   ],
   "source": [
    "class Solution(object):\n",
    "    def largestRectangleArea(self, heights):\n",
    "        \"\"\"\n",
    "        :type heights: List[int]\n",
    "        :rtype: int\n",
    "        \"\"\"\n",
    "\n",
    "        if heights == []:\n",
    "            return 0\n",
    "\n",
    "        s = []\n",
    "        left = []\n",
    "        right = []\n",
    "\n",
    "        for i in range(len(heights)):\n",
    "\n",
    "            if s == []:\n",
    "                s.append(i)\n",
    "                left.append(-1)\n",
    "            else:\n",
    "                while s and heights[s[-1]] >= heights[i]:\n",
    "                    s.pop()\n",
    "                if s == []:\n",
    "                    left.append(-1)\n",
    "                else:\n",
    "                    left.append(s[-1])\n",
    "                s.append(i)\n",
    "        \n",
    "        s = []\n",
    "        for i in range(len(heights) - 1, -1, -1):\n",
    "            if s == []:\n",
    "                s.append(i)\n",
    "                right.insert(0, len(heights))\n",
    "            else:\n",
    "                while s and heights[s[-1]] >= heights[i]:\n",
    "                    s.pop()\n",
    "                if s == []:\n",
    "                    right.insert(0, len(heights))\n",
    "                else:\n",
    "                    right.insert(0, s[-1])\n",
    "                s.append(i)\n",
    "        \n",
    "        ans = 0\n",
    "        for i in range(len(heights)):\n",
    "            ans = max(ans, heights[i] * (right[i] - 1 - left[i]))\n",
    "        \n",
    "        return ans\n",
    "\n",
    "s = Solution()\n",
    "s.largestRectangleArea([0, 9])\n",
    "\n"
   ],
   "metadata": {
    "collapsed": false,
    "pycharm": {
     "name": "#%%\n",
     "is_executing": false
    }
   }
  }
 ],
 "metadata": {
  "kernelspec": {
   "display_name": "Python 3",
   "language": "python",
   "name": "python3"
  },
  "language_info": {
   "codemirror_mode": {
    "name": "ipython",
    "version": 2
   },
   "file_extension": ".py",
   "mimetype": "text/x-python",
   "name": "python",
   "nbconvert_exporter": "python",
   "pygments_lexer": "ipython2",
   "version": "2.7.6"
  },
  "pycharm": {
   "stem_cell": {
    "cell_type": "raw",
    "source": [],
    "metadata": {
     "collapsed": false
    }
   }
  }
 },
 "nbformat": 4,
 "nbformat_minor": 0
}