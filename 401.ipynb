{
 "cells": [
  {
   "cell_type": "code",
   "execution_count": 7,
   "metadata": {
    "collapsed": true,
    "pycharm": {
     "is_executing": false
    }
   },
   "outputs": [
    {
     "data": {
      "text/plain": "['0:03',\n '0:05',\n '0:09',\n '0:17',\n '0:33',\n '0:06',\n '0:10',\n '0:18',\n '0:34',\n '0:12',\n '0:20',\n '0:36',\n '0:24',\n '0:40',\n '0:48',\n '1:01',\n '1:02',\n '1:04',\n '1:08',\n '1:16',\n '1:32',\n '2:01',\n '2:02',\n '2:04',\n '2:08',\n '2:16',\n '2:32',\n '4:01',\n '4:02',\n '4:04',\n '4:08',\n '4:16',\n '4:32',\n '8:01',\n '8:02',\n '8:04',\n '8:08',\n '8:16',\n '8:32',\n '3:00',\n '5:00',\n '9:00',\n '6:00',\n '10:00',\n '12:00']"
     },
     "metadata": {},
     "output_type": "execute_result",
     "execution_count": 7
    }
   ],
   "source": [
    "class Solution(object):\n",
    "\n",
    "    def combine(self, n, k):\n",
    "        ans = []\n",
    "        c = []\n",
    "\n",
    "        def dfs(start=1):\n",
    "            if len(c) == k:\n",
    "                ans.append(c[:])\n",
    "            for i in range(start, n + 1):\n",
    "                if k - len(c) > n + 1 - i:\n",
    "                    break\n",
    "                c.append(i)\n",
    "                dfs(i + 1)\n",
    "                c.pop()\n",
    "        \n",
    "        dfs()\n",
    "        return ans\n",
    "\n",
    "    def list_to_int(self, l):\n",
    "        num = 0\n",
    "        for i in l:\n",
    "            num += 1 << (i - 1)\n",
    "        return num\n",
    "\n",
    "    def readBinaryWatch(self, num):\n",
    "        \"\"\"\n",
    "        :type num: int\n",
    "        :rtype: List[str]\n",
    "        \"\"\"\n",
    "\n",
    "        hour, minute = {0: ['0']}, {0: ['00']}\n",
    "\n",
    "        def cal_hour_num(n):\n",
    "            if n not in hour:\n",
    "                tmp = [] \n",
    "                cs = self.combine(4, n)\n",
    "                for c in cs:\n",
    "                    trans = self.list_to_int(c)\n",
    "                    if trans >= 0 and trans < 12:\n",
    "                        tmp.append(str(trans))\n",
    "                hour[n] = tmp\n",
    "            return hour[n]\n",
    "\n",
    "        def cal_minute_num(n):\n",
    "            if n not in minute:\n",
    "                tmp = [] \n",
    "                cs = self.combine(6, n)\n",
    "                for c in cs:\n",
    "                    trans = self.list_to_int(c)\n",
    "                    if trans >= 0 and trans < 60:\n",
    "                        tmp.append('0' + str(trans) if trans < 10 else str(trans))\n",
    "                minute[n] = tmp\n",
    "            return minute[n]\n",
    "\n",
    "        ans = []\n",
    "        hour_select = min(4, num)\n",
    "        for i in range(hour_select + 1):\n",
    "            hn = cal_hour_num(i)\n",
    "            mn = cal_minute_num(num - i)\n",
    "            ans.extend([h + ':' + m for h in hn for m in mn])\n",
    "        return ans\n",
    "\n",
    "s = Solution()\n",
    "s.readBinaryWatch(2)\n"
   ]
  }
 ],
 "metadata": {
  "kernelspec": {
   "display_name": "Python 3",
   "language": "python",
   "name": "python3"
  },
  "language_info": {
   "codemirror_mode": {
    "name": "ipython",
    "version": 2
   },
   "file_extension": ".py",
   "mimetype": "text/x-python",
   "name": "python",
   "nbconvert_exporter": "python",
   "pygments_lexer": "ipython2",
   "version": "2.7.6"
  },
  "pycharm": {
   "stem_cell": {
    "cell_type": "raw",
    "source": [],
    "metadata": {
     "collapsed": false
    }
   }
  }
 },
 "nbformat": 4,
 "nbformat_minor": 0
}