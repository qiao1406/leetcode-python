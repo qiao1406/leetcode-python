{
 "cells": [
  {
   "cell_type": "markdown",
   "source": [
    "给定一个只包含数字的字符串，复原它并返回所有可能的 IP 地址格式。\n",
    "\n",
    "有效的 IP 地址正好由四个整数（每个整数位于 0 到 255 之间组成），整数之间用 '.' 分隔。\n",
    "\n",
    "https://leetcode-cn.com/problems/restore-ip-addresses\n",
    "\n",
    ">输入: \"25525511135\"\n",
    "输出: [\"255.255.11.135\", \"255.255.111.35\"]\n"
   ],
   "metadata": {
    "collapsed": false
   }
  },
  {
   "cell_type": "code",
   "execution_count": 2,
   "metadata": {
    "collapsed": true,
    "pycharm": {
     "is_executing": false
    }
   },
   "outputs": [],
   "source": [
    "class Solution(object):\n",
    "\n",
    "    def restoreIpAddresses(self, s):\n",
    "        \"\"\"\n",
    "        :type s: str\n",
    "        :rtype: List[str]\n",
    "        \"\"\"\n",
    "        result = []\n",
    "\n",
    "        def parser(nums, remain, length):\n",
    "\n",
    "            if remain == '' or length >= 2 and remain[0] == '0':\n",
    "                return\n",
    "\n",
    "            # print(nums, 'length:', length)\n",
    "            select = int(remain[:length])\n",
    "            remain = remain[length:]\n",
    "            if 0 <= select <= 255:\n",
    "                nums.append(str(select))\n",
    "            else:\n",
    "                return\n",
    "\n",
    "            if len(nums) == 4:\n",
    "                if remain == '':\n",
    "                    result.append(nums)\n",
    "                    # print('res', nums, 'remain', remain)\n",
    "                    # print(nums, 'length:', length)\n",
    "                return\n",
    "\n",
    "            if len(remain) >= 1:\n",
    "                parser(list(nums), remain, 1)\n",
    "            if len(remain) >= 2:\n",
    "                parser(list(nums), remain, 2)\n",
    "            if len(remain) >= 3:\n",
    "                parser(list(nums), remain, 3)\n",
    "\n",
    "        parser([], s, 1)\n",
    "        parser([], s, 2)\n",
    "        parser([], s, 3)\n",
    "\n",
    "        for i in range(len(result)):\n",
    "            result[i] = '.'.join(result[i])\n",
    "\n",
    "        return result\n"
   ]
  },
  {
   "cell_type": "markdown",
   "source": [
    "主题：DFS，回溯 \n",
    "\n",
    "第二种做法如下"
   ],
   "metadata": {
    "collapsed": false,
    "pycharm": {
     "name": "#%% md\n"
    }
   }
  },
  {
   "cell_type": "code",
   "source": [
    "class Solution(object):\n",
    "\n",
    "    def restoreIpAddresses(self, s):\n",
    "        \"\"\"\n",
    "        :type s: str\n",
    "        :rtype: List[str]\n",
    "        \"\"\"\n",
    "        result = []\n",
    "        seg = [0] * 4\n",
    "        \n",
    "        def dfs(seg_id, seg_start):\n",
    "            if seg_id == 4:\n",
    "                if seg_start == len(s):\n",
    "                    addr = '.'.join([str(i) for i in seg])\n",
    "                    result.append(addr)\n",
    "                return \n",
    "            \n",
    "            if seg_start == len(s):\n",
    "                return \n",
    "            \n",
    "            if s[seg_start] == '0':\n",
    "                seg[seg_id] = 0\n",
    "                dfs(seg_id + 1, seg_start + 1)\n",
    "            \n",
    "            addr = 0\n",
    "            for seg_end in range(seg_start, len(s)):\n",
    "                addr = addr * 10 + (ord(s[seg_end]) - ord('0'))\n",
    "                \n",
    "                if 0 < addr <= 255:\n",
    "                    seg[seg_id] = addr\n",
    "                    dfs(seg_id + 1, seg_end + 1)\n",
    "                else:\n",
    "                    break\n",
    "        \n",
    "        dfs(0, 0)\n",
    "        return result\n",
    "    "
   ],
   "metadata": {
    "collapsed": false,
    "pycharm": {
     "name": "#%% \n",
     "is_executing": false
    }
   },
   "execution_count": 4,
   "outputs": []
  },
  {
   "cell_type": "code",
   "execution_count": 6,
   "outputs": [
    {
     "name": "stdout",
     "text": [
      "[]\n",
      "['255.255.11.135', '255.255.111.35']\n",
      "['0.10.0.10', '0.100.1.0']\n"
     ],
     "output_type": "stream"
    }
   ],
   "source": [
    "s = Solution()\n",
    "print(s.restoreIpAddresses(''))\n",
    "print(s.restoreIpAddresses('25525511135'))\n",
    "print(s.restoreIpAddresses('010010'))"
   ],
   "metadata": {
    "collapsed": false,
    "pycharm": {
     "name": "#%%\n",
     "is_executing": false
    }
   }
  }
 ],
 "metadata": {
  "kernelspec": {
   "display_name": "Python 3",
   "language": "python",
   "name": "python3"
  },
  "language_info": {
   "codemirror_mode": {
    "name": "ipython",
    "version": 2
   },
   "file_extension": ".py",
   "mimetype": "text/x-python",
   "name": "python",
   "nbconvert_exporter": "python",
   "pygments_lexer": "ipython2",
   "version": "2.7.6"
  },
  "pycharm": {
   "stem_cell": {
    "cell_type": "raw",
    "source": [],
    "metadata": {
     "collapsed": false
    }
   }
  }
 },
 "nbformat": 4,
 "nbformat_minor": 0
}