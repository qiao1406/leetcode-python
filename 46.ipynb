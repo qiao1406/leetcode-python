{
 "cells": [
  {
   "cell_type": "code",
   "execution_count": 3,
   "metadata": {
    "collapsed": true,
    "pycharm": {
     "is_executing": false
    }
   },
   "outputs": [
    {
     "data": {
      "text/plain": [
       "[[1, 2, 3], [1, 3, 2], [2, 1, 3], [2, 3, 1], [3, 1, 2], [3, 2, 1]]"
      ]
     },
     "execution_count": 3,
     "metadata": {},
     "output_type": "execute_result"
    }
   ],
   "source": [
    "class Solution(object):\n",
    "    def permute(self, nums):\n",
    "        \"\"\"\n",
    "        :type nums: List[int]\n",
    "        :rtype: List[List[int]]\n",
    "        \"\"\"\n",
    "\n",
    "        if not nums:\n",
    "            return [[]]\n",
    "        elif len(nums) == 1:\n",
    "            return [[nums[0]]]\n",
    "        else:\n",
    "            res = []\n",
    "            for n in nums:\n",
    "                tmp = nums[:]\n",
    "                tmp.remove(n)\n",
    "                less_permute = self.permute(tmp)\n",
    "                for p in less_permute:\n",
    "                    res.append([n] + p)\n",
    "            return res\n",
    "\n",
    "s = Solution()\n",
    "s.permute([1, 2, 3])"
   ]
  },
  {
   "cell_type": "markdown",
   "metadata": {
    "pycharm": {
     "name": "#%% md\n"
    }
   },
   "source": [
    "https://leetcode-cn.com/problems/permutations/solution/hui-su-suan-fa-python-dai-ma-java-dai-ma-by-liweiw/\n",
    "\n",
    "另一种解法"
   ]
  },
  {
   "cell_type": "code",
   "execution_count": 5,
   "metadata": {
    "pycharm": {
     "is_executing": false,
     "name": "#%%\n"
    }
   },
   "outputs": [
    {
     "name": "stdout",
     "output_type": "stream",
     "text": [
      "[[1, 2, 3], [1, 3, 2], [2, 1, 3], [2, 3, 1], [3, 1, 2], [3, 2, 1]]\n"
     ]
    }
   ],
   "source": [
    "class Solution:\n",
    "\n",
    "    def permute(self, nums):\n",
    "        def dfs(depth, path, used):\n",
    "            if depth == size:\n",
    "                res.append(path[:])\n",
    "                return\n",
    "\n",
    "            for i in range(size):\n",
    "                if ((used >> i) & 1) == 0:\n",
    "                    used ^= (1 << i)\n",
    "                    path.append(nums[i])\n",
    "\n",
    "                    dfs(depth + 1, path, used)\n",
    "\n",
    "                    used ^= (1 << i)\n",
    "                    path.pop()\n",
    "\n",
    "        size = len(nums)\n",
    "        if size == 0:\n",
    "            return []\n",
    "        res = []\n",
    "        dfs(0, [], 0)\n",
    "        return res\n",
    "\n",
    "\n",
    "if __name__ == '__main__':\n",
    "    nums = [1, 2, 3]\n",
    "    solution = Solution()\n",
    "    print(solution.permute([1, 2, 3]))\n",
    "\n",
    "\n"
   ]
  }
 ],
 "metadata": {
  "kernelspec": {
   "display_name": "Python 3",
   "language": "python",
   "name": "python3"
  },
  "language_info": {
   "codemirror_mode": {
    "name": "ipython",
    "version": 3
   },
   "file_extension": ".py",
   "mimetype": "text/x-python",
   "name": "python",
   "nbconvert_exporter": "python",
   "pygments_lexer": "ipython3",
   "version": "3.6.10"
  },
  "pycharm": {
   "stem_cell": {
    "cell_type": "raw",
    "metadata": {
     "collapsed": false
    },
    "source": []
   }
  }
 },
 "nbformat": 4,
 "nbformat_minor": 1
}