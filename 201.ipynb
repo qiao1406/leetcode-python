{
 "cells": [
  {
   "cell_type": "code",
   "execution_count": 15,
   "metadata": {
    "collapsed": true,
    "pycharm": {
     "is_executing": false
    }
   },
   "outputs": [
    {
     "data": {
      "text/plain": "4"
     },
     "metadata": {},
     "output_type": "execute_result",
     "execution_count": 15
    }
   ],
   "source": [
    "class Solution(object):\n",
    "    def rangeBitwiseAnd(self, m, n):\n",
    "        \"\"\"\n",
    "        :type m: int\n",
    "        :type n: int\n",
    "        :rtype: int\n",
    "        \"\"\"\n",
    "\n",
    "        if m == n:\n",
    "            return m\n",
    "        \n",
    "        k = 0\n",
    "        while 1 << k <= n:\n",
    "            k += 1\n",
    "        k -= 1\n",
    "\n",
    "        if 1 << k == m:\n",
    "            return 1 << k\n",
    "        elif 1 << k > m:\n",
    "            return 0\n",
    "        else:\n",
    "            p = 0\n",
    "            ans = 0\n",
    "            while 1 << p <= n - m + 1:\n",
    "                p += 1\n",
    "            p -= 1\n",
    "            \n",
    "            flag = m + (1 << p)\n",
    "            if flag <= n and flag & (1 << p) == 0:\n",
    "                p += 1\n",
    "            \n",
    "            while p <= k:\n",
    "                num = 1 << p\n",
    "                if m & num == num and n & num == num:\n",
    "                    ans += num\n",
    "                p += 1\n",
    "\n",
    "            return ans \n",
    "        \n",
    "\n",
    "s = Solution()\n",
    "s.rangeBitwiseAnd(5, 7)"
   ]
  }
 ],
 "metadata": {
  "kernelspec": {
   "display_name": "Python 3",
   "language": "python",
   "name": "python3"
  },
  "language_info": {
   "codemirror_mode": {
    "name": "ipython",
    "version": 2
   },
   "file_extension": ".py",
   "mimetype": "text/x-python",
   "name": "python",
   "nbconvert_exporter": "python",
   "pygments_lexer": "ipython2",
   "version": "2.7.6"
  },
  "pycharm": {
   "stem_cell": {
    "cell_type": "raw",
    "source": [],
    "metadata": {
     "collapsed": false
    }
   }
  }
 },
 "nbformat": 4,
 "nbformat_minor": 0
}