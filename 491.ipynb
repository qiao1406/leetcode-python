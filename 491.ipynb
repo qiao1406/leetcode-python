{
 "cells": [
  {
   "cell_type": "code",
   "execution_count": 8,
   "metadata": {
    "collapsed": true,
    "pycharm": {
     "is_executing": false
    }
   },
   "outputs": [
    {
     "name": "stdout",
     "text": [
      "[4, 7, 7, 7]\n",
      "[4, 7]\n",
      "[6, 7]\n",
      "[4, 6]\n",
      "[4, 6, 7, 7]\n",
      "[7, 7]\n",
      "[7, 7, 7]\n",
      "[4, 7, 7]\n",
      "[4, 6, 7, 7, 7]\n",
      "[4, 6, 7]\n",
      "[6, 7, 7, 7]\n",
      "[6, 7, 7]\n"
     ],
     "output_type": "stream"
    }
   ],
   "source": [
    "class Solution(object):\n",
    "    def findSubsequences(self, nums):\n",
    "        \"\"\"\n",
    "        :type nums: List[int]\n",
    "        :rtype: List[List[int]]\n",
    "        \"\"\"\n",
    "\n",
    "        ans = set()\n",
    "\n",
    "        for i in range(len(nums)):\n",
    "            tmp = []\n",
    "            \n",
    "            if i > 0 and nums[i-1] == nums[i]:\n",
    "                for l in ans:\n",
    "                    if l[-1] == nums[i]:\n",
    "                        tmp.append(l + (nums[i],))\n",
    "            else:\n",
    "                tmp.append((nums[i],))\n",
    "                for l in ans:\n",
    "                    if l[-1] <= nums[i]:\n",
    "                        tmp.append(l + (nums[i],))\n",
    "\n",
    "            for l in tmp:\n",
    "                ans.add(l)\n",
    "\n",
    "        return [list(l) for l in ans if len(l) >= 2]\n",
    "    \n",
    "s = Solution()\n",
    "# a = [1,2,3,4,5,6,7,8,9,10,1,1,1,1,1]\n",
    "a = [4, 6, 7, 7, 7]\n",
    "ans = s.findSubsequences(a)\n",
    "for l in ans:\n",
    "    print(l)"
   ]
  }
 ],
 "metadata": {
  "kernelspec": {
   "display_name": "Python 3",
   "language": "python",
   "name": "python3"
  },
  "language_info": {
   "codemirror_mode": {
    "name": "ipython",
    "version": 2
   },
   "file_extension": ".py",
   "mimetype": "text/x-python",
   "name": "python",
   "nbconvert_exporter": "python",
   "pygments_lexer": "ipython2",
   "version": "2.7.6"
  },
  "pycharm": {
   "stem_cell": {
    "cell_type": "raw",
    "source": [],
    "metadata": {
     "collapsed": false
    }
   }
  }
 },
 "nbformat": 4,
 "nbformat_minor": 0
}