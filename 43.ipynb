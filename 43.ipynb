{
 "cells": [
  {
   "cell_type": "markdown",
   "metadata": {
    "pycharm": {
     "name": "#%% md\n"
    }
   },
   "source": [
    "第一次写的\n",
    "\n",
    "执行用时：624 ms, 在所有 Python 提交中击败了\n",
    "6.14% 的用户\n",
    "\n",
    "内存消耗：12.7 MB, 在所有 Python 提交中击败了\n",
    "48.96% 的用户"
   ]
  },
  {
   "cell_type": "code",
   "execution_count": 1,
   "metadata": {
    "pycharm": {
     "is_executing": false,
     "name": "#%%\n"
    }
   },
   "outputs": [
    {
     "name": "stdout",
     "output_type": "stream",
     "text": [
      "0\n"
     ]
    }
   ],
   "source": [
    "class Solution(object):\n",
    "    def multiply(self, num1, num2):\n",
    "        \"\"\"\n",
    "        :type num1: str\n",
    "        :type num2: str\n",
    "        :rtype: str\n",
    "        \"\"\"\n",
    "        \n",
    "        def ten_mul(a, m):\n",
    "            return a + '0' * m\n",
    "        \n",
    "        def add(a, b):\n",
    "            return str(int(a) + int(b))\n",
    "        \n",
    "        def mul(number1, number2):\n",
    "            \n",
    "            if number1 == '0' or number2 == '0':\n",
    "                return '0'\n",
    "            \n",
    "            if len(number1) == 1 and len(number2) == 1:\n",
    "                return str((ord(number1) - ord('0')) * (ord(number2) - ord('0')))\n",
    "            \n",
    "            p = len(number1) // 2\n",
    "            q = len(number2) // 2\n",
    "            m = len(number1) - p\n",
    "            n = len(number2) - q\n",
    "            \n",
    "            a, b, c, d = number1[:p], number1[p:], number2[:q], number2[q:]\n",
    "            if p == 0:\n",
    "                a = '0'\n",
    "            if q == 0:\n",
    "                c = '0'\n",
    "            \n",
    "            part1 = ten_mul(mul(a, c), m + n)\n",
    "            part2 = ten_mul(mul(a, d), m)\n",
    "            part3 = ten_mul(mul(b, c), n)\n",
    "            part4 = mul(b, d)\n",
    "            \n",
    "            return add(add(add(part1, part2), part3), part4)\n",
    "            # return add(add(add(ten_mul(mul(a, c), m + n), ten_mul(mul(a, d), m)), ten_mul(mul(b, c), n)), mul(b, d))\n",
    "        \n",
    "        return mul(num1, num2)\n",
    "\n",
    "s = Solution()\n",
    "# print(s.multiply('2', '3'))\n",
    "print(s.multiply('0', '0'))"
   ]
  },
  {
   "cell_type": "markdown",
   "metadata": {
    "pycharm": {
     "name": "#%% md\n"
    }
   },
   "source": [
    "使用列竖式法\n",
    "该算法是通过两数相乘时，乘数某位与被乘数某位相乘，与产生结果的位置的规律来完成。具体规律如下：\n",
    "\n",
    "乘数 num1 位数为 MM，被乘数 num2 位数为 NN， num1 x num2 结果 res 最大总位数为 M+N\n",
    "num1[i] x num2[j] 的结果为 tmp(位数为两位，\"0x\",\"xy\"的形式)，其第一位位于 res[i+j]，第二位位于 res[i+j+1]。\n",
    "\n",
    "\n",
    "链接：https://leetcode-cn.com/problems/multiply-strings/solution/you-hua-ban-shu-shi-da-bai-994-by-breezean/\n"
   ]
  },
  {
   "cell_type": "code",
   "execution_count": 2,
   "metadata": {
    "pycharm": {
     "is_executing": false,
     "name": "#%%\n"
    }
   },
   "outputs": [
    {
     "name": "stdout",
     "output_type": "stream",
     "text": [
      "6\n",
      "56184788208\n"
     ]
    }
   ],
   "source": [
    "class Solution(object):\n",
    "    def multiply(self, num1, num2):\n",
    "        \"\"\"\n",
    "        :type num1: str\n",
    "        :type num2: str\n",
    "        :rtype: str\n",
    "        \"\"\"\n",
    "        \n",
    "        m = len(num1)\n",
    "        n = len(num2)\n",
    "        digit = [0] * (m + n)\n",
    "        num1 = num1[::-1]\n",
    "        num2 = num2[::-1]\n",
    "        \n",
    "        for i in range(n):\n",
    "            \n",
    "            if num2[i] == '0':\n",
    "                continue\n",
    "                \n",
    "            for j in range(m):               \n",
    "                res = (ord(num2[i]) - ord('0')) * (ord(num1[j]) - ord('0'))\n",
    "                digit[i + j] += res % 10\n",
    "                if digit[i + j] >= 10:\n",
    "                    digit[i + j] %= 10\n",
    "                    digit[i + j + 1] += 1\n",
    "                digit[i + j + 1] += res // 10\n",
    "                if digit[i + j + 1] >= 10:\n",
    "                    digit[i + j + 1] %= 10\n",
    "                    digit[i + j + 2] += 1\n",
    "        \n",
    "        ans = 0\n",
    "        for i in range(len(digit) - 1, -1, -1):\n",
    "            ans = 10 * ans + digit[i]\n",
    "        return str(ans)\n",
    "    \n",
    "s = Solution()\n",
    "print(s.multiply('2', '3'))\n",
    "print(s.multiply('123', '456786896'))\n",
    " "
   ]
  }
 ],
 "metadata": {
  "kernelspec": {
   "display_name": "Python 3",
   "language": "python",
   "name": "python3"
  },
  "language_info": {
   "codemirror_mode": {
    "name": "ipython",
    "version": 3
   },
   "file_extension": ".py",
   "mimetype": "text/x-python",
   "name": "python",
   "nbconvert_exporter": "python",
   "pygments_lexer": "ipython3",
   "version": "3.6.10"
  },
  "pycharm": {
   "stem_cell": {
    "cell_type": "raw",
    "metadata": {
     "collapsed": false
    },
    "source": []
   }
  }
 },
 "nbformat": 4,
 "nbformat_minor": 1
}
