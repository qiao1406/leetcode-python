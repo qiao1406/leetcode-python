{
 "cells": [
  {
   "cell_type": "code",
   "execution_count": 6,
   "metadata": {
    "collapsed": true,
    "pycharm": {
     "is_executing": false
    }
   },
   "outputs": [],
   "source": [
    "class Solution(object):\n",
    "    def isValid(self, s):\n",
    "        \"\"\"\n",
    "        :type s: str\n",
    "        :rtype: bool\n",
    "        \"\"\"\n",
    "        \n",
    "        if len(s) == 0:\n",
    "            return True\n",
    "\n",
    "        a = []\n",
    "        for i in s:\n",
    "            if i == '(' or i == '[' or i == '{':\n",
    "                a.append(i)\n",
    "            else:\n",
    "                if len(a) == 0:\n",
    "                    return False\n",
    "                j = a.pop()\n",
    "                if i == ')' and j != '(':\n",
    "                    return False\n",
    "                if i == ']' and j != '[':\n",
    "                    return False\n",
    "                if i == '}' and j != '{':\n",
    "                    return False\n",
    "        \n",
    "        return len(a) == 0\n"
   ]
  },
  {
   "cell_type": "code",
   "execution_count": 7,
   "outputs": [],
   "source": [
    "s = Solution()\n",
    "assert s.isValid('()') is True\n",
    "assert s.isValid('()[]{}') is True\n",
    "assert s.isValid('(]') is False\n",
    "assert s.isValid('(((') is False\n",
    "assert s.isValid('([)]') is False\n",
    "assert s.isValid('{[]}') is True\n",
    "assert s.isValid('') is True\n",
    "assert s.isValid(')') is False\n"
   ],
   "metadata": {
    "collapsed": false,
    "pycharm": {
     "name": "#%%\n",
     "is_executing": false
    }
   }
  }
 ],
 "metadata": {
  "kernelspec": {
   "display_name": "Python 3",
   "language": "python",
   "name": "python3"
  },
  "language_info": {
   "codemirror_mode": {
    "name": "ipython",
    "version": 2
   },
   "file_extension": ".py",
   "mimetype": "text/x-python",
   "name": "python",
   "nbconvert_exporter": "python",
   "pygments_lexer": "ipython2",
   "version": "2.7.6"
  },
  "pycharm": {
   "stem_cell": {
    "cell_type": "raw",
    "source": [],
    "metadata": {
     "collapsed": false
    }
   }
  }
 },
 "nbformat": 4,
 "nbformat_minor": 0
}