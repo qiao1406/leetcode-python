{
 "cells": [
  {
   "cell_type": "code",
   "execution_count": 8,
   "metadata": {
    "collapsed": true,
    "pycharm": {
     "is_executing": false
    }
   },
   "outputs": [
    {
     "data": {
      "text/plain": "[1, 2, 3, 4, 8, 12, 16, 15, 14, 13, 9, 5, 6, 7, 11, 10]"
     },
     "metadata": {},
     "output_type": "execute_result",
     "execution_count": 8
    }
   ],
   "source": [
    "class Solution(object):\n",
    "    def spiralOrder(self, matrix):\n",
    "        \"\"\"\n",
    "        :type matrix: List[List[int]]\n",
    "        :rtype: List[int]\n",
    "        \"\"\"\n",
    "\n",
    "        if len(matrix[0]) == 0:\n",
    "            return []\n",
    "        \n",
    "        x, y = 0, 0\n",
    "        rm = len(matrix[0])\n",
    "        dm = len(matrix)\n",
    "        lm = -1\n",
    "        um = 0\n",
    "        ans = []\n",
    "\n",
    "        while True:\n",
    "\n",
    "            if y >= rm:\n",
    "                break\n",
    "            while y < rm:\n",
    "                ans.append(matrix[x][y])\n",
    "                y += 1\n",
    "            rm -= 1\n",
    "            y -= 1\n",
    "            x += 1\n",
    "\n",
    "            if x >= dm:\n",
    "                break \n",
    "            while x < dm:\n",
    "                ans.append(matrix[x][y])\n",
    "                x += 1\n",
    "            dm -= 1\n",
    "            x -= 1\n",
    "            y -= 1\n",
    "\n",
    "            if y <= lm:\n",
    "                break\n",
    "            while y > lm:\n",
    "                ans.append(matrix[x][y])\n",
    "                y -= 1\n",
    "            lm += 1\n",
    "            y += 1\n",
    "            x -= 1\n",
    "\n",
    "            if x <= um:\n",
    "                break\n",
    "            while x > um:\n",
    "                ans.append(matrix[x][y])\n",
    "                x -= 1\n",
    "            um += 1\n",
    "            x += 1\n",
    "            y += 1\n",
    "\n",
    "        return ans  \n",
    "\n",
    "a1 = [[1, 2, 3], [4, 5, 6], [7, 8, 9]]\n",
    "a2 = [[1, 2, 3, 4], [5, 6, 7, 8], [9,10,11,12]]\n",
    "a3 = [[]]\n",
    "a4 = [[1, 2, 3, 4, 5],\n",
    "      [6, 7, 8, 9, 10],\n",
    "      [11, 12, 13, 14, 15],\n",
    "      [16, 17, 18, 19, 20],\n",
    "      [21, 22, 23, 24, 25],\n",
    "    ]\n",
    "a5 = [[1, 2, 3, 4],\n",
    "      [5, 6, 7, 8],\n",
    "      [9, 10, 11, 12],\n",
    "      [13, 14, 15, 16],\n",
    "    ]\n",
    "s = Solution()\n",
    "s.spiralOrder(a1)\n",
    "s.spiralOrder(a5)\n"
   ]
  }
 ],
 "metadata": {
  "kernelspec": {
   "display_name": "Python 3",
   "language": "python",
   "name": "python3"
  },
  "language_info": {
   "codemirror_mode": {
    "name": "ipython",
    "version": 2
   },
   "file_extension": ".py",
   "mimetype": "text/x-python",
   "name": "python",
   "nbconvert_exporter": "python",
   "pygments_lexer": "ipython2",
   "version": "2.7.6"
  },
  "pycharm": {
   "stem_cell": {
    "cell_type": "raw",
    "source": [],
    "metadata": {
     "collapsed": false
    }
   }
  }
 },
 "nbformat": 4,
 "nbformat_minor": 0
}