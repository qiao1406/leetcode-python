{
 "cells": [
  {
   "cell_type": "code",
   "execution_count": 3,
   "metadata": {
    "collapsed": true,
    "pycharm": {
     "is_executing": false
    }
   },
   "outputs": [
    {
     "name": "stdout",
     "text": [
      "   dcba   gfe okji   \n"
     ],
     "output_type": "stream"
    }
   ],
   "source": [
    "class Solution(object):\n",
    "    def reverseWords(self, s):\n",
    "        \"\"\"\n",
    "        :type s: str\n",
    "        :rtype: str\n",
    "        \"\"\"\n",
    "\n",
    "        start, end = 0, 0\n",
    "        ans = ''\n",
    "\n",
    "\n",
    "        while True:\n",
    "            \n",
    "            start = end\n",
    "            while start < len(s) and s[start] == ' ':\n",
    "                start += 1\n",
    "            ans += ' ' * (start - end)\n",
    "            if start >= len(s):\n",
    "                return ans\n",
    "\n",
    "            end = start\n",
    "            while end < len(s) and s[end] != ' ':\n",
    "                end += 1\n",
    "            ans += s[end - 1: start - 1 - len(s): -1]\n",
    "            if end >= len(s):\n",
    "                return ans\n",
    "            \n",
    "s = Solution()\n",
    "print(s.reverseWords('   abcd   efg ijko   '))\n",
    "\n"
   ]
  }
 ],
 "metadata": {
  "kernelspec": {
   "display_name": "Python 3",
   "language": "python",
   "name": "python3"
  },
  "language_info": {
   "codemirror_mode": {
    "name": "ipython",
    "version": 2
   },
   "file_extension": ".py",
   "mimetype": "text/x-python",
   "name": "python",
   "nbconvert_exporter": "python",
   "pygments_lexer": "ipython2",
   "version": "2.7.6"
  },
  "pycharm": {
   "stem_cell": {
    "cell_type": "raw",
    "source": [],
    "metadata": {
     "collapsed": false
    }
   }
  }
 },
 "nbformat": 4,
 "nbformat_minor": 0
}