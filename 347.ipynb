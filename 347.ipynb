{
 "cells": [
  {
   "cell_type": "code",
   "execution_count": 7,
   "metadata": {
    "collapsed": true
   },
   "outputs": [
    {
     "data": {
      "text/plain": "[2, 1]"
     },
     "execution_count": 7,
     "metadata": {},
     "output_type": "execute_result"
    }
   ],
   "source": [
    "import heapq\n",
    "\n",
    "class Item(object):\n",
    "    def __init__(self, count=0, val=0):\n",
    "        self.val = val\n",
    "        self.count = count\n",
    "\n",
    "    def __lt__(self, other):\n",
    "        return self.count < other.count\n",
    "    #\n",
    "    # def __repr__(self):\n",
    "    #     return f'(val: {self.val}, count: {self.count})'\n",
    "\n",
    "\n",
    "class Solution(object):\n",
    "    def topKFrequent(self, nums, k):\n",
    "        \"\"\"\n",
    "        :type nums: List[int]\n",
    "        :type k: int\n",
    "        :rtype: List[int]\n",
    "        \"\"\"\n",
    "\n",
    "        pq = [Item()] * k\n",
    "        count = {}\n",
    "        heapq.heapify(pq)\n",
    "\n",
    "        for n in nums:\n",
    "            count[n] = count.get(n, 0) + 1\n",
    "\n",
    "        for key in count:\n",
    "            if count[key] > pq[0].count:\n",
    "                heapq.heapreplace(pq, Item(count[key], key))\n",
    "\n",
    "        return [item.val for item in pq]\n",
    "\n",
    "sl = Solution()\n",
    "sl.topKFrequent(nums = [1,1,1,2,2,3], k = 2)"
   ]
  }
 ],
 "metadata": {
  "kernelspec": {
   "display_name": "PyCharm (leetcode-python)",
   "language": "python",
   "name": "pycharm-8e4bec57"
  },
  "language_info": {
   "codemirror_mode": {
    "name": "ipython",
    "version": 2
   },
   "file_extension": ".py",
   "mimetype": "text/x-python",
   "name": "python",
   "nbconvert_exporter": "python",
   "pygments_lexer": "ipython2",
   "version": "2.7.6"
  }
 },
 "nbformat": 4,
 "nbformat_minor": 0
}