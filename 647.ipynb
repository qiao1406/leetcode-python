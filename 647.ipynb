{
 "cells": [
  {
   "cell_type": "code",
   "execution_count": 13,
   "metadata": {
    "collapsed": true,
    "pycharm": {
     "is_executing": false
    }
   },
   "outputs": [
    {
     "name": "stdout",
     "text": [
      "a 0 type1\n",
      "aa 0 type2\n",
      "a 1 type1\n",
      "aa 1 type2\n",
      "aaaa 1 type2\n",
      "aaa 1 type3\n",
      "a 2 type1\n",
      "aa 2 type2\n",
      "aaa 2 type3\n",
      "a 3 type1\n",
      "10\n"
     ],
     "output_type": "stream"
    }
   ],
   "source": [
    "class Solution(object):\n",
    "    def countSubstrings(self, s):\n",
    "        \"\"\"\n",
    "        :type s: str\n",
    "        :rtype: int\n",
    "        \"\"\"\n",
    "        \n",
    "        size = len(s)\n",
    "        if size == 0:\n",
    "            return 0\n",
    "        \n",
    "        ans = 0\n",
    "        for i in range(len(s)):\n",
    "            ans += 1\n",
    "            print(s[i], i, 'type1')\n",
    "            \n",
    "            if i + 1 < len(s) and s[i] == s[i+1]:\n",
    "                j = i\n",
    "                k = i + 1\n",
    "                while j >= 0 and k < len(s) and s[j] == s[k]:\n",
    "                    ans += 1\n",
    "                    print(s[j: k + 1], i, 'type2')\n",
    "                    j -= 1\n",
    "                    k += 1\n",
    "            \n",
    "            j = i - 1\n",
    "            k = i + 1\n",
    "            \n",
    "            while j >= 0 and k < len(s) and s[j] == s[k]:\n",
    "                ans += 1\n",
    "                print(s[j: k + 1], i, 'type3')\n",
    "                j -= 1\n",
    "                k += 1\n",
    "            \n",
    "            # if 1 < k < len(s) and s[k] == s[i] and s[j + 1:k].count(s[i]) == k - j - 1:\n",
    "            #     ans += 1\n",
    "            #     print(s[j + 1:k], i, 'type4')\n",
    "            #     j = i - 1\n",
    "            #     k += 1\n",
    "            #     while j >= 0 and k < len(s) and s[j] == s[k]:\n",
    "            #         ans += 1\n",
    "            #         print(s[j: k + 1], i, 'type5')\n",
    "            #         j -= 1\n",
    "            #         k += 1\n",
    "        \n",
    "        return ans\n",
    "            \n",
    "s = Solution()\n",
    "# print(s.countSubstrings('abc'))\n",
    "\n",
    "# print(s.countSubstrings('aaa'))\n",
    "print(s.countSubstrings('aaaa'))\n",
    "# print(s.countSubstrings('abba'))"
   ]
  }
 ],
 "metadata": {
  "kernelspec": {
   "display_name": "Python 3",
   "language": "python",
   "name": "python3"
  },
  "language_info": {
   "codemirror_mode": {
    "name": "ipython",
    "version": 2
   },
   "file_extension": ".py",
   "mimetype": "text/x-python",
   "name": "python",
   "nbconvert_exporter": "python",
   "pygments_lexer": "ipython2",
   "version": "2.7.6"
  },
  "pycharm": {
   "stem_cell": {
    "cell_type": "raw",
    "source": [],
    "metadata": {
     "collapsed": false
    }
   }
  }
 },
 "nbformat": 4,
 "nbformat_minor": 0
}