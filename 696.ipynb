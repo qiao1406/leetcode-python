{
 "cells": [
  {
   "cell_type": "code",
   "execution_count": 18,
   "metadata": {
    "collapsed": true,
    "pycharm": {
     "is_executing": false
    }
   },
   "outputs": [],
   "source": [
    "class Solution(object):\n",
    "    def countBinarySubstrings(self, s):\n",
    "        \"\"\"\n",
    "        :type s: str\n",
    "        :rtype: int\n",
    "        \"\"\"\n",
    "        ans = 0\n",
    "        if s == '' or len(s) < 2:\n",
    "            return 0\n",
    "        \n",
    "        j = 0\n",
    "        \n",
    "        while j < len(s) and s[j] == s[0]:\n",
    "            j += 1\n",
    "        \n",
    "        last_j = 0\n",
    "        while j < len(s):\n",
    "            k = 0\n",
    "            while j + k < len(s) and j - 1 - k >= last_j and s[j + k] != s[j - 1 - k]:\n",
    "                ans += 1\n",
    "                k += 1 \n",
    "            \n",
    "            while k > 0 and j + k < len(s) and s[j] == s[j + k]:\n",
    "                k += 1\n",
    "            \n",
    "            last_j = j\n",
    "            j = j + k if k > 0 else j + 1\n",
    "\n",
    "        return ans\n",
    "\n",
    "# s = Solution()\n",
    "# s.countBinarySubstrings('10101')\n"
   ]
  },
  {
   "cell_type": "code",
   "execution_count": 20,
   "outputs": [],
   "source": [
    "s = Solution()\n",
    "assert s.countBinarySubstrings('0011111100') == 4\n",
    "assert s.countBinarySubstrings('00110011') == 6\n",
    "assert s.countBinarySubstrings('11001100') == 6\n",
    "assert s.countBinarySubstrings('') == 0\n",
    "assert s.countBinarySubstrings('10101') == 4\n",
    "assert s.countBinarySubstrings('00001111') == 4\n",
    "assert s.countBinarySubstrings('00100') == 2\n",
    "assert s.countBinarySubstrings('101010') == 5\n",
    "\n",
    "\n",
    "\n",
    "\n",
    "\n"
   ],
   "metadata": {
    "collapsed": false,
    "pycharm": {
     "name": "#%%\n",
     "is_executing": false
    }
   }
  }
 ],
 "metadata": {
  "kernelspec": {
   "display_name": "Python 3",
   "language": "python",
   "name": "python3"
  },
  "language_info": {
   "codemirror_mode": {
    "name": "ipython",
    "version": 2
   },
   "file_extension": ".py",
   "mimetype": "text/x-python",
   "name": "python",
   "nbconvert_exporter": "python",
   "pygments_lexer": "ipython2",
   "version": "2.7.6"
  },
  "pycharm": {
   "stem_cell": {
    "cell_type": "raw",
    "source": [],
    "metadata": {
     "collapsed": false
    }
   }
  }
 },
 "nbformat": 4,
 "nbformat_minor": 0
}