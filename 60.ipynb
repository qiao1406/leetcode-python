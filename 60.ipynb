{
 "cells": [
  {
   "cell_type": "code",
   "execution_count": 3,
   "metadata": {
    "collapsed": true
   },
   "outputs": [
    {
     "data": {
      "text/plain": "'2314'"
     },
     "execution_count": 3,
     "metadata": {},
     "output_type": "execute_result"
    }
   ],
   "source": [
    "class Solution(object):\n",
    "    def getPermutation(self, n, k):\n",
    "        \"\"\"\n",
    "        :type n: int\n",
    "        :type k: int\n",
    "        :rtype: str\n",
    "        \"\"\"\n",
    "\n",
    "        box = [i for i in range(1, n + 1)]\n",
    "        factorial = [1] * (n + 1)\n",
    "        ans = []\n",
    "\n",
    "        for i in range(1, n + 1):\n",
    "            factorial[i] = factorial[i - 1] * i\n",
    "\n",
    "        def cal(num, index):\n",
    "            if num == 1:\n",
    "                ans.append(str(box[0]))\n",
    "                return\n",
    "            loc = index // factorial[num - 1]\n",
    "            ans.append(str(box.pop(loc)))\n",
    "            cal(num - 1, index % factorial[num - 1])\n",
    "\n",
    "        cal(n, k - 1)\n",
    "        return ''.join(ans)\n",
    "\n",
    "\n",
    "s = Solution()\n",
    "s.getPermutation(4, 9)"
   ]
  }
 ],
 "metadata": {
  "kernelspec": {
   "display_name": "PyCharm (leetcode-python)",
   "language": "python",
   "name": "pycharm-8e4bec57"
  },
  "language_info": {
   "codemirror_mode": {
    "name": "ipython",
    "version": 2
   },
   "file_extension": ".py",
   "mimetype": "text/x-python",
   "name": "python",
   "nbconvert_exporter": "python",
   "pygments_lexer": "ipython2",
   "version": "2.7.6"
  }
 },
 "nbformat": 4,
 "nbformat_minor": 0
}