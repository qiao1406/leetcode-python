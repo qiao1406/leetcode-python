{
 "cells": [
  {
   "cell_type": "code",
   "execution_count": 2,
   "metadata": {
    "collapsed": true,
    "pycharm": {
     "is_executing": false
    }
   },
   "outputs": [
    {
     "data": {
      "text/plain": "[[1, 2], [1, 3], [1, 4], [2, 3], [2, 4], [3, 4]]"
     },
     "metadata": {},
     "output_type": "execute_result",
     "execution_count": 2
    }
   ],
   "source": [
    "class Solution(object):\n",
    "    def combine(self, n, k):\n",
    "        \"\"\"\n",
    "        :type n: int\n",
    "        :type k: int\n",
    "        :rtype: List[List[int]]\n",
    "        \"\"\"\n",
    "\n",
    "        ans = []\n",
    "        c = []\n",
    "\n",
    "        def dfs(start):\n",
    "            if len(c) == k:\n",
    "                ans.append(c[:])\n",
    "                return\n",
    "            for i in range(start, n + 1):\n",
    "                if k - len(c) > n - i + 1:\n",
    "                    break\n",
    "                c.append(i)\n",
    "                dfs(i + 1)\n",
    "                c.pop()\n",
    "        \n",
    "        dfs(1)\n",
    "        return ans\n",
    "\n",
    "s = Solution()\n",
    "s.combine(4, 2)"
   ]
  }
 ],
 "metadata": {
  "kernelspec": {
   "display_name": "Python 3",
   "language": "python",
   "name": "python3"
  },
  "language_info": {
   "codemirror_mode": {
    "name": "ipython",
    "version": 2
   },
   "file_extension": ".py",
   "mimetype": "text/x-python",
   "name": "python",
   "nbconvert_exporter": "python",
   "pygments_lexer": "ipython2",
   "version": "2.7.6"
  },
  "pycharm": {
   "stem_cell": {
    "cell_type": "raw",
    "source": [],
    "metadata": {
     "collapsed": false
    }
   }
  }
 },
 "nbformat": 4,
 "nbformat_minor": 0
}