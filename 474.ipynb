{
 "cells": [
  {
   "cell_type": "code",
   "execution_count": 5,
   "metadata": {
    "collapsed": true
   },
   "outputs": [
    {
     "name": "stdout",
     "output_type": "stream",
     "text": [
      "[1, 3, 2, 0, 1] [1, 1, 4, 1, 0]\n"
     ]
    },
    {
     "data": {
      "text/plain": "8"
     },
     "execution_count": 5,
     "metadata": {},
     "output_type": "execute_result"
    }
   ],
   "source": [
    "class Solution(object):\n",
    "    def findMaxForm(self, strs, m, n):\n",
    "        \"\"\"\n",
    "        :type strs: List[str]\n",
    "        :type m: int\n",
    "        :type n: int\n",
    "        :rtype: int\n",
    "        \"\"\"\n",
    "\n",
    "        ans = 0\n",
    "        cost0 = [s.count('0') for s in strs]\n",
    "        cost1 = [s.count('1') for s in strs]\n",
    "        dp = [[0] * (n + 1) for _ in range(m + 1)]\n",
    "\n",
    "        print(cost0, cost1)\n",
    "\n",
    "        for s in strs:\n",
    "            cost0 = s.count('0')\n",
    "            cost1 = len(s) - cost0\n",
    "\n",
    "            for i in range(m, cost0 - 1, -1):\n",
    "                for j in range(n, cost1 - 1, -1):\n",
    "                    dp[i][j] = max(dp[i][j], 1 + dp[i - cost0][j - cost1])\n",
    "\n",
    "        return dp[m][n]\n",
    "\n",
    "s = Solution()\n",
    "s.findMaxForm([\"10\",\"0001\",\"111001\",\"1\",\"0\"], 5, 3)"
   ]
  }
 ],
 "metadata": {
  "kernelspec": {
   "display_name": "PyCharm (leetcode-python)",
   "language": "python",
   "name": "pycharm-8e4bec57"
  },
  "language_info": {
   "codemirror_mode": {
    "name": "ipython",
    "version": 2
   },
   "file_extension": ".py",
   "mimetype": "text/x-python",
   "name": "python",
   "nbconvert_exporter": "python",
   "pygments_lexer": "ipython2",
   "version": "2.7.6"
  }
 },
 "nbformat": 4,
 "nbformat_minor": 0
}