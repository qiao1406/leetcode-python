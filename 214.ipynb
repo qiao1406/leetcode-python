{
 "cells": [
  {
   "cell_type": "markdown",
   "source": [
    "这种写法超时了"
   ],
   "metadata": {
    "collapsed": false,
    "pycharm": {
     "name": "#%% md\n"
    }
   }
  },
  {
   "cell_type": "code",
   "execution_count": 7,
   "metadata": {
    "collapsed": true,
    "pycharm": {
     "is_executing": false
    }
   },
   "outputs": [],
   "source": [
    "class Solution(object):\n",
    "    def shortestPalindrome(self, s):\n",
    "        \"\"\"\n",
    "        :type s: str\n",
    "        :rtype: str\n",
    "        \"\"\"\n",
    "        \n",
    "        if not s or len(s) == 1:\n",
    "            return s\n",
    "\n",
    "        for end in range(len(s) - 1, -1, -1):\n",
    "            \n",
    "            if s[end] != s[0]:\n",
    "                continue\n",
    "            \n",
    "            left, right = 0, end\n",
    "            \n",
    "            while left <= right and s[left] == s[right]:\n",
    "                left += 1\n",
    "                right -= 1\n",
    "            if left > right:\n",
    "                return s[end + 1:][::-1] + s"
   ]
  },
  {
   "cell_type": "markdown",
   "source": [
    "换一个改进的 马拉车算法"
   ],
   "metadata": {
    "collapsed": false,
    "pycharm": {
     "name": "#%% md\n"
    }
   }
  },
  {
   "cell_type": "code",
   "execution_count": 14,
   "outputs": [],
   "source": [
    "class Solution(object):\n",
    "    def shortestPalindrome(self, s):\n",
    "        \"\"\"\n",
    "        :type s: str\n",
    "        :rtype: str\n",
    "        \"\"\"\n",
    "        \n",
    "        if not s or len(s) == 1:\n",
    "            return s\n",
    "\n",
    "        t = '$#' + '#'.join(s) + '#'\n",
    "        p = [0] * len(t)  # p[i] 表示以 t[i] 为中心的回文的最大半径\n",
    "        mx = 0\n",
    "        id = 0\n",
    "        resLen = 0  # 记录全局最大的半径\n",
    "        resCenter = 0\n",
    "\n",
    "        for i in range(1, len(t)):\n",
    "            p[i] = min(p[2 * id - i], mx - i) if mx > i else 1\n",
    "\n",
    "            while i + p[i] < len(t) and i - p[i] >= 0 and t[i + p[i]] == t[i - p[i]]:\n",
    "                p[i] += 1\n",
    "\n",
    "            if mx < i + p[i] - 1:\n",
    "                mx = i + p[i] - 1\n",
    "                id = i\n",
    "\n",
    "            if resLen < p[i] and p[i] - i == 0:\n",
    "                resLen = p[i]\n",
    "                resCenter = i\n",
    "        \n",
    "        # print(resCenter, resLen)\n",
    "        t = t[1:]\n",
    "        resCenter -= 1\n",
    "        \n",
    "        if resCenter - resLen + 1 != 0:\n",
    "            return  s[1:][::-1] + s\n",
    "        else:\n",
    "            tmp = t[resCenter + resLen:][::-1] + t\n",
    "            return tmp.replace('#', '')"
   ],
   "metadata": {
    "collapsed": false,
    "pycharm": {
     "name": "#%% \n",
     "is_executing": false
    }
   }
  },
  {
   "cell_type": "code",
   "execution_count": 15,
   "outputs": [
    {
     "name": "stdout",
     "text": [
      "3 3\n",
      "abbaabba\n"
     ],
     "output_type": "stream"
    }
   ],
   "source": [
    "s = Solution()\n",
    "# print(s.shortestPalindrome('deff'))\n",
    "# print(s.shortestPalindrome('aacecaaa'))\n",
    "print(s.shortestPalindrome('aabba'))"
   ],
   "metadata": {
    "collapsed": false,
    "pycharm": {
     "name": "#%%\n",
     "is_executing": false
    }
   }
  }
 ],
 "metadata": {
  "kernelspec": {
   "display_name": "Python 3",
   "language": "python",
   "name": "python3"
  },
  "language_info": {
   "codemirror_mode": {
    "name": "ipython",
    "version": 2
   },
   "file_extension": ".py",
   "mimetype": "text/x-python",
   "name": "python",
   "nbconvert_exporter": "python",
   "pygments_lexer": "ipython2",
   "version": "2.7.6"
  },
  "pycharm": {
   "stem_cell": {
    "cell_type": "raw",
    "source": [],
    "metadata": {
     "collapsed": false
    }
   }
  }
 },
 "nbformat": 4,
 "nbformat_minor": 0
}