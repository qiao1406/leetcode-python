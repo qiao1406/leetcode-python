{
 "cells": [
  {
   "cell_type": "code",
   "execution_count": 1,
   "metadata": {
    "collapsed": true
   },
   "outputs": [
    {
     "data": {
      "text/plain": "['1R44Y', '1R44y', '1r44Y', '1r44y']"
     },
     "execution_count": 1,
     "metadata": {},
     "output_type": "execute_result"
    }
   ],
   "source": [
    "class Solution(object):\n",
    "    def letterCasePermutation(self, S):\n",
    "        \"\"\"\n",
    "        :type S: str\n",
    "        :rtype: List[str]\n",
    "        \"\"\"\n",
    "\n",
    "        if not S:\n",
    "            return ['']\n",
    "        if S.isnumeric():\n",
    "            return [S]\n",
    "        \n",
    "        ans = []\n",
    "        path = []\n",
    "\n",
    "        def dfs(i):\n",
    "            if i == len(S):\n",
    "                ans.append(''.join(path))\n",
    "                return\n",
    "            \n",
    "            if S[i].isnumeric():\n",
    "                path.append(S[i])\n",
    "                dfs(i + 1)\n",
    "                path.pop()\n",
    "            else:\n",
    "                path.append(S[i].upper())\n",
    "                dfs(i + 1)\n",
    "                path.pop()\n",
    "                path.append(S[i].lower())\n",
    "                dfs(i + 1)\n",
    "                path.pop()\n",
    "\n",
    "        dfs(0)\n",
    "        return ans\n",
    "\n",
    "s = Solution()\n",
    "s.letterCasePermutation('1r44y')\n"
   ]
  },
  {
   "cell_type": "code",
   "execution_count": null,
   "outputs": [],
   "source": [],
   "metadata": {
    "collapsed": false,
    "pycharm": {
     "name": "#%%\n"
    }
   }
  }
 ],
 "metadata": {
  "kernelspec": {
   "name": "pycharm-8e4bec57",
   "language": "python",
   "display_name": "PyCharm (leetcode-python)"
  },
  "language_info": {
   "codemirror_mode": {
    "name": "ipython",
    "version": 2
   },
   "file_extension": ".py",
   "mimetype": "text/x-python",
   "name": "python",
   "nbconvert_exporter": "python",
   "pygments_lexer": "ipython2",
   "version": "2.7.6"
  }
 },
 "nbformat": 4,
 "nbformat_minor": 0
}