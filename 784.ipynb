{
 "cells": [
  {
   "cell_type": "code",
   "execution_count": 2,
   "metadata": {
    "collapsed": true,
    "pycharm": {
     "is_executing": false
    }
   },
   "outputs": [
    {
     "data": {
      "text/plain": "['1E2R3', '1E2r3', '1e2R3', '1e2r3']"
     },
     "metadata": {},
     "output_type": "execute_result",
     "execution_count": 2
    }
   ],
   "source": [
    "class Solution(object):\n",
    "    def letterCasePermutation(self, S):\n",
    "        \"\"\"\n",
    "        :type S: str\n",
    "        :rtype: List[str]\n",
    "        \"\"\"\n",
    "\n",
    "        if not S:\n",
    "            return ['']\n",
    "        if S.isnumeric():\n",
    "            return [S]\n",
    "        \n",
    "        ans = []\n",
    "        path = []\n",
    "\n",
    "        def dfs(i):\n",
    "            if i == len(S):\n",
    "                ans.append(''.join(path))\n",
    "                return\n",
    "            \n",
    "            if S[i].isnumeric():\n",
    "                path.append(S[i])\n",
    "                dfs(i + 1)\n",
    "                path.pop()\n",
    "            else:\n",
    "                path.append(S[i].upper())\n",
    "                dfs(i + 1)\n",
    "                path.pop()\n",
    "                path.append(S[i].lower())\n",
    "                dfs(i + 1)\n",
    "                path.pop()\n",
    "\n",
    "        dfs(0)\n",
    "        return ans\n",
    "\n",
    "s = Solution()\n",
    "s.letterCasePermutation('1e2r3')\n"
   ]
  }
 ],
 "metadata": {
  "kernelspec": {
   "display_name": "Python 3",
   "language": "python",
   "name": "python3"
  },
  "language_info": {
   "codemirror_mode": {
    "name": "ipython",
    "version": 2
   },
   "file_extension": ".py",
   "mimetype": "text/x-python",
   "name": "python",
   "nbconvert_exporter": "python",
   "pygments_lexer": "ipython2",
   "version": "2.7.6"
  },
  "pycharm": {
   "stem_cell": {
    "cell_type": "raw",
    "source": [],
    "metadata": {
     "collapsed": false
    }
   }
  }
 },
 "nbformat": 4,
 "nbformat_minor": 0
}