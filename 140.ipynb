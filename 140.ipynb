{
 "cells": [
  {
   "cell_type": "code",
   "execution_count": 4,
   "metadata": {
    "collapsed": true,
    "pycharm": {
     "is_executing": false
    }
   },
   "outputs": [
    {
     "data": {
      "text/plain": "[' cats and do g', ' cat sand do g', ' cats and dog', ' cat sand dog']"
     },
     "metadata": {},
     "output_type": "execute_result",
     "execution_count": 4
    }
   ],
   "source": [
    "class Solution(object):\n",
    "    def wordBreak(self, s, wordDict):\n",
    "        \"\"\"\n",
    "        :type s: str\n",
    "        :type wordDict: List[str]\n",
    "        :rtype: List[str]\n",
    "        \"\"\"\n",
    "\n",
    "        if not s or not wordDict:\n",
    "            return []\n",
    "\n",
    "        ans = []\n",
    "        wordDict = set(wordDict)\n",
    "        max_len = len(max(wordDict, key=len))\n",
    "        d = {0: [[0]]}\n",
    "\n",
    "        def add_sentence(path):\n",
    "            start = 0\n",
    "            res = ''\n",
    "            for end in path:\n",
    "                res += s[start: end]\n",
    "                res += ' '\n",
    "                start = end\n",
    "            ans.append(res[:-1])\n",
    "\n",
    "        for i in range(1, len(s) + 1):\n",
    "            res = []\n",
    "            for j in range(i -1, -1, -1):\n",
    "                if i - j > max_len:\n",
    "                    break\n",
    "                if j in d and s[j: i] in wordDict:\n",
    "                    for sl in d[j]:\n",
    "                        res.append(sl + [i])\n",
    "                        \n",
    "            if res:\n",
    "                d[i] = res\n",
    "                \n",
    "        for sl in d[len(s)]:\n",
    "            add_sentence(sl)\n",
    "            \n",
    "        return ans\n",
    "\n",
    "s = Solution()\n",
    "s.wordBreak('catsanddog', [\"cat\",\"cats\",\"and\",\"sand\",\"dog\", \"do\", \"g\"]\n",
    ")\n"
   ]
  }
 ],
 "metadata": {
  "kernelspec": {
   "display_name": "Python 3",
   "language": "python",
   "name": "python3"
  },
  "language_info": {
   "codemirror_mode": {
    "name": "ipython",
    "version": 2
   },
   "file_extension": ".py",
   "mimetype": "text/x-python",
   "name": "python",
   "nbconvert_exporter": "python",
   "pygments_lexer": "ipython2",
   "version": "2.7.6"
  },
  "pycharm": {
   "stem_cell": {
    "cell_type": "raw",
    "source": [],
    "metadata": {
     "collapsed": false
    }
   }
  }
 },
 "nbformat": 4,
 "nbformat_minor": 0
}