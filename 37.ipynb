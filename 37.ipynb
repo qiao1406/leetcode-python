{
 "cells": [
  {
   "cell_type": "code",
   "execution_count": null,
   "metadata": {
    "collapsed": true,
    "pycharm": {
     "is_executing": true
    }
   },
   "outputs": [],
   "source": [
    "class Solution(object):\n",
    "\n",
    "    def cal_block_index(self, i, j):\n",
    "        return 3 * (i // 3) + j // 3\n",
    "\n",
    "    def solveSudoku(self, board):\n",
    "        \"\"\"\n",
    "        :type board: List[List[str]]\n",
    "        :rtype: None Do not return anything, modify board in-place instead.\n",
    "        \"\"\"\n",
    "\n",
    "        mark = {'1', '2', '3', '4', '5', '6', '7', '8', '9'}\n",
    "        empty = set()\n",
    "        row = [set() for i in range(9)]\n",
    "        col = [set() for i in range(9)]\n",
    "        block = [set() for i in range(9)]\n",
    "\n",
    "        for i in range(9):\n",
    "            for j in range(9):\n",
    "                if board[i][j] == '.':\n",
    "                    empty.add((i, j))\n",
    "                else:\n",
    "                    row[i].add(board[i][j])\n",
    "                    col[j].add(board[i][j])\n",
    "                    block[self.cal_block_index(i, j)].add(board[i][j])\n",
    "\n",
    "        self.finish = False\n",
    "\n",
    "        def dfs(x, y):\n",
    "\n",
    "            if x > 8:\n",
    "                self.finish = True\n",
    "                return\n",
    "\n",
    "            if self.finish:\n",
    "                return\n",
    "\n",
    "            if (x, y) not in empty:\n",
    "                dfs(x + y // 8, (y + 1) % 9)\n",
    "                return\n",
    "\n",
    "            can_choose = mark - row[x] - col[y] - block[self.cal_block_index(x, y)]\n",
    "\n",
    "            for digit in can_choose:\n",
    "                if not self.finish:\n",
    "                    board[x][y] = digit\n",
    "                    row[x].add(board[x][y])\n",
    "                    col[y].add(board[x][y])\n",
    "                    block[self.cal_block_index(x, y)].add(board[x][y])\n",
    "                    dfs(x + y // 8, (y + 1) % 9)\n",
    "                    row[x].remove(digit)\n",
    "                    col[y].remove(digit)\n",
    "                    block[self.cal_block_index(x, y)].remove(digit)\n",
    "\n",
    "\n",
    "b = [[\"5\",\"3\",\".\",\".\",\"7\",\".\",\".\",\".\",\".\"],\n",
    "     [\"6\",\".\",\".\",\"1\",\"9\",\"5\",\".\",\".\",\".\"],\n",
    "     [\".\",\"9\",\"8\",\".\",\".\",\".\",\".\",\"6\",\".\"],\n",
    "     [\"8\",\".\",\".\",\".\",\"6\",\".\",\".\",\".\",\"3\"],\n",
    "     [\"4\",\".\",\".\",\"8\",\".\",\"3\",\".\",\".\",\"1\"],\n",
    "     [\"7\",\".\",\".\",\".\",\"2\",\".\",\".\",\".\",\"6\"],\n",
    "     [\".\",\"6\",\".\",\".\",\".\",\".\",\"2\",\"8\",\".\"],\n",
    "     [\".\",\".\",\".\",\"4\",\"1\",\"9\",\".\",\".\",\"5\"],\n",
    "     [\".\",\".\",\".\",\".\",\"8\",\".\",\".\",\"7\",\"9\"]]\n",
    "\n",
    "s = Solution()\n",
    "s.solveSudoku(b)\n",
    "\n"
   ]
  }
 ],
 "metadata": {
  "kernelspec": {
   "display_name": "PyCharm (leetcode-python)",
   "language": "python",
   "name": "pycharm-8e4bec57"
  },
  "language_info": {
   "codemirror_mode": {
    "name": "ipython",
    "version": 2
   },
   "file_extension": ".py",
   "mimetype": "text/x-python",
   "name": "python",
   "nbconvert_exporter": "python",
   "pygments_lexer": "ipython2",
   "version": "2.7.6"
  }
 },
 "nbformat": 4,
 "nbformat_minor": 0
}